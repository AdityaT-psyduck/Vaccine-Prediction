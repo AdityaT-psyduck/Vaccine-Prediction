{
 "cells": [
  {
   "cell_type": "code",
   "execution_count": 1,
   "id": "0922e7b2",
   "metadata": {
    "execution": {
     "iopub.execute_input": "2025-07-23T16:56:23.859289Z",
     "iopub.status.busy": "2025-07-23T16:56:23.858934Z",
     "iopub.status.idle": "2025-07-23T16:56:27.890509Z",
     "shell.execute_reply": "2025-07-23T16:56:27.889590Z"
    },
    "papermill": {
     "duration": 4.043556,
     "end_time": "2025-07-23T16:56:27.892415",
     "exception": false,
     "start_time": "2025-07-23T16:56:23.848859",
     "status": "completed"
    },
    "tags": []
   },
   "outputs": [],
   "source": [
    "import pandas as pd\n",
    "import matplotlib as plt\n",
    "import seaborn as sns\n",
    "import numpy as np"
   ]
  },
  {
   "cell_type": "code",
   "execution_count": 2,
   "id": "eb2c914e",
   "metadata": {
    "execution": {
     "iopub.execute_input": "2025-07-23T16:56:27.910214Z",
     "iopub.status.busy": "2025-07-23T16:56:27.909058Z",
     "iopub.status.idle": "2025-07-23T16:56:28.349933Z",
     "shell.execute_reply": "2025-07-23T16:56:28.348615Z"
    },
    "papermill": {
     "duration": 0.451315,
     "end_time": "2025-07-23T16:56:28.351854",
     "exception": false,
     "start_time": "2025-07-23T16:56:27.900539",
     "status": "completed"
    },
    "tags": []
   },
   "outputs": [],
   "source": [
    "train_features=pd.read_csv('/kaggle/input/vaccine-data/training_set_features.csv')\n",
    "train_label=pd.read_csv('/kaggle/input/vaccine-data/training_set_labels.csv')\n",
    "test=pd.read_csv('/kaggle/input/vaccine-data/test_set_features.csv')\n",
    "submission=pd.read_csv('/kaggle/input/vaccine-data/submission_format.csv')"
   ]
  },
  {
   "cell_type": "code",
   "execution_count": 3,
   "id": "47c369ca",
   "metadata": {
    "execution": {
     "iopub.execute_input": "2025-07-23T16:56:28.369347Z",
     "iopub.status.busy": "2025-07-23T16:56:28.369009Z",
     "iopub.status.idle": "2025-07-23T16:56:28.394918Z",
     "shell.execute_reply": "2025-07-23T16:56:28.394024Z"
    },
    "papermill": {
     "duration": 0.036176,
     "end_time": "2025-07-23T16:56:28.396446",
     "exception": false,
     "start_time": "2025-07-23T16:56:28.360270",
     "status": "completed"
    },
    "tags": []
   },
   "outputs": [
    {
     "data": {
      "text/html": [
       "<div>\n",
       "<style scoped>\n",
       "    .dataframe tbody tr th:only-of-type {\n",
       "        vertical-align: middle;\n",
       "    }\n",
       "\n",
       "    .dataframe tbody tr th {\n",
       "        vertical-align: top;\n",
       "    }\n",
       "\n",
       "    .dataframe thead th {\n",
       "        text-align: right;\n",
       "    }\n",
       "</style>\n",
       "<table border=\"1\" class=\"dataframe\">\n",
       "  <thead>\n",
       "    <tr style=\"text-align: right;\">\n",
       "      <th></th>\n",
       "      <th>respondent_id</th>\n",
       "      <th>h1n1_vaccine</th>\n",
       "      <th>seasonal_vaccine</th>\n",
       "    </tr>\n",
       "  </thead>\n",
       "  <tbody>\n",
       "    <tr>\n",
       "      <th>0</th>\n",
       "      <td>26707</td>\n",
       "      <td>0.5</td>\n",
       "      <td>0.7</td>\n",
       "    </tr>\n",
       "    <tr>\n",
       "      <th>1</th>\n",
       "      <td>26708</td>\n",
       "      <td>0.5</td>\n",
       "      <td>0.7</td>\n",
       "    </tr>\n",
       "    <tr>\n",
       "      <th>2</th>\n",
       "      <td>26709</td>\n",
       "      <td>0.5</td>\n",
       "      <td>0.7</td>\n",
       "    </tr>\n",
       "    <tr>\n",
       "      <th>3</th>\n",
       "      <td>26710</td>\n",
       "      <td>0.5</td>\n",
       "      <td>0.7</td>\n",
       "    </tr>\n",
       "    <tr>\n",
       "      <th>4</th>\n",
       "      <td>26711</td>\n",
       "      <td>0.5</td>\n",
       "      <td>0.7</td>\n",
       "    </tr>\n",
       "  </tbody>\n",
       "</table>\n",
       "</div>"
      ],
      "text/plain": [
       "   respondent_id  h1n1_vaccine  seasonal_vaccine\n",
       "0          26707           0.5               0.7\n",
       "1          26708           0.5               0.7\n",
       "2          26709           0.5               0.7\n",
       "3          26710           0.5               0.7\n",
       "4          26711           0.5               0.7"
      ]
     },
     "execution_count": 3,
     "metadata": {},
     "output_type": "execute_result"
    }
   ],
   "source": [
    "submission.head()"
   ]
  },
  {
   "cell_type": "code",
   "execution_count": 4,
   "id": "351c3309",
   "metadata": {
    "execution": {
     "iopub.execute_input": "2025-07-23T16:56:28.414534Z",
     "iopub.status.busy": "2025-07-23T16:56:28.414175Z",
     "iopub.status.idle": "2025-07-23T16:56:28.419897Z",
     "shell.execute_reply": "2025-07-23T16:56:28.418957Z"
    },
    "papermill": {
     "duration": 0.016,
     "end_time": "2025-07-23T16:56:28.421337",
     "exception": false,
     "start_time": "2025-07-23T16:56:28.405337",
     "status": "completed"
    },
    "tags": []
   },
   "outputs": [
    {
     "data": {
      "text/plain": [
       "(26708, 3)"
      ]
     },
     "execution_count": 4,
     "metadata": {},
     "output_type": "execute_result"
    }
   ],
   "source": [
    "submission.shape"
   ]
  },
  {
   "cell_type": "code",
   "execution_count": 5,
   "id": "9626435e",
   "metadata": {
    "execution": {
     "iopub.execute_input": "2025-07-23T16:56:28.438297Z",
     "iopub.status.busy": "2025-07-23T16:56:28.437980Z",
     "iopub.status.idle": "2025-07-23T16:56:28.464134Z",
     "shell.execute_reply": "2025-07-23T16:56:28.463185Z"
    },
    "papermill": {
     "duration": 0.036251,
     "end_time": "2025-07-23T16:56:28.465612",
     "exception": false,
     "start_time": "2025-07-23T16:56:28.429361",
     "status": "completed"
    },
    "tags": []
   },
   "outputs": [
    {
     "data": {
      "text/html": [
       "<div>\n",
       "<style scoped>\n",
       "    .dataframe tbody tr th:only-of-type {\n",
       "        vertical-align: middle;\n",
       "    }\n",
       "\n",
       "    .dataframe tbody tr th {\n",
       "        vertical-align: top;\n",
       "    }\n",
       "\n",
       "    .dataframe thead th {\n",
       "        text-align: right;\n",
       "    }\n",
       "</style>\n",
       "<table border=\"1\" class=\"dataframe\">\n",
       "  <thead>\n",
       "    <tr style=\"text-align: right;\">\n",
       "      <th></th>\n",
       "      <th>respondent_id</th>\n",
       "      <th>xyz_concern</th>\n",
       "      <th>xyz_knowledge</th>\n",
       "      <th>behavioral_antiviral_meds</th>\n",
       "      <th>behavioral_avoidance</th>\n",
       "      <th>behavioral_face_mask</th>\n",
       "      <th>behavioral_wash_hands</th>\n",
       "      <th>behavioral_large_gatherings</th>\n",
       "      <th>behavioral_outside_home</th>\n",
       "      <th>behavioral_touch_face</th>\n",
       "      <th>...</th>\n",
       "      <th>income_poverty</th>\n",
       "      <th>marital_status</th>\n",
       "      <th>rent_or_own</th>\n",
       "      <th>employment_status</th>\n",
       "      <th>hhs_geo_region</th>\n",
       "      <th>census_msa</th>\n",
       "      <th>household_adults</th>\n",
       "      <th>household_children</th>\n",
       "      <th>employment_industry</th>\n",
       "      <th>employment_occupation</th>\n",
       "    </tr>\n",
       "  </thead>\n",
       "  <tbody>\n",
       "    <tr>\n",
       "      <th>0</th>\n",
       "      <td>0</td>\n",
       "      <td>1.0</td>\n",
       "      <td>0.0</td>\n",
       "      <td>0.0</td>\n",
       "      <td>0.0</td>\n",
       "      <td>0.0</td>\n",
       "      <td>0.0</td>\n",
       "      <td>0.0</td>\n",
       "      <td>1.0</td>\n",
       "      <td>1.0</td>\n",
       "      <td>...</td>\n",
       "      <td>Below Poverty</td>\n",
       "      <td>Not Married</td>\n",
       "      <td>Own</td>\n",
       "      <td>Not in Labor Force</td>\n",
       "      <td>oxchjgsf</td>\n",
       "      <td>Non-MSA</td>\n",
       "      <td>0.0</td>\n",
       "      <td>0.0</td>\n",
       "      <td>NaN</td>\n",
       "      <td>NaN</td>\n",
       "    </tr>\n",
       "    <tr>\n",
       "      <th>1</th>\n",
       "      <td>1</td>\n",
       "      <td>3.0</td>\n",
       "      <td>2.0</td>\n",
       "      <td>0.0</td>\n",
       "      <td>1.0</td>\n",
       "      <td>0.0</td>\n",
       "      <td>1.0</td>\n",
       "      <td>0.0</td>\n",
       "      <td>1.0</td>\n",
       "      <td>1.0</td>\n",
       "      <td>...</td>\n",
       "      <td>Below Poverty</td>\n",
       "      <td>Not Married</td>\n",
       "      <td>Rent</td>\n",
       "      <td>Employed</td>\n",
       "      <td>bhuqouqj</td>\n",
       "      <td>MSA, Not Principle  City</td>\n",
       "      <td>0.0</td>\n",
       "      <td>0.0</td>\n",
       "      <td>pxcmvdjn</td>\n",
       "      <td>xgwztkwe</td>\n",
       "    </tr>\n",
       "    <tr>\n",
       "      <th>2</th>\n",
       "      <td>2</td>\n",
       "      <td>1.0</td>\n",
       "      <td>1.0</td>\n",
       "      <td>0.0</td>\n",
       "      <td>1.0</td>\n",
       "      <td>0.0</td>\n",
       "      <td>0.0</td>\n",
       "      <td>0.0</td>\n",
       "      <td>0.0</td>\n",
       "      <td>0.0</td>\n",
       "      <td>...</td>\n",
       "      <td>&lt;= $75,000, Above Poverty</td>\n",
       "      <td>Not Married</td>\n",
       "      <td>Own</td>\n",
       "      <td>Employed</td>\n",
       "      <td>qufhixun</td>\n",
       "      <td>MSA, Not Principle  City</td>\n",
       "      <td>2.0</td>\n",
       "      <td>0.0</td>\n",
       "      <td>rucpziij</td>\n",
       "      <td>xtkaffoo</td>\n",
       "    </tr>\n",
       "    <tr>\n",
       "      <th>3</th>\n",
       "      <td>3</td>\n",
       "      <td>1.0</td>\n",
       "      <td>1.0</td>\n",
       "      <td>0.0</td>\n",
       "      <td>1.0</td>\n",
       "      <td>0.0</td>\n",
       "      <td>1.0</td>\n",
       "      <td>1.0</td>\n",
       "      <td>0.0</td>\n",
       "      <td>0.0</td>\n",
       "      <td>...</td>\n",
       "      <td>Below Poverty</td>\n",
       "      <td>Not Married</td>\n",
       "      <td>Rent</td>\n",
       "      <td>Not in Labor Force</td>\n",
       "      <td>lrircsnp</td>\n",
       "      <td>MSA, Principle City</td>\n",
       "      <td>0.0</td>\n",
       "      <td>0.0</td>\n",
       "      <td>NaN</td>\n",
       "      <td>NaN</td>\n",
       "    </tr>\n",
       "    <tr>\n",
       "      <th>4</th>\n",
       "      <td>4</td>\n",
       "      <td>2.0</td>\n",
       "      <td>1.0</td>\n",
       "      <td>0.0</td>\n",
       "      <td>1.0</td>\n",
       "      <td>0.0</td>\n",
       "      <td>1.0</td>\n",
       "      <td>1.0</td>\n",
       "      <td>0.0</td>\n",
       "      <td>1.0</td>\n",
       "      <td>...</td>\n",
       "      <td>&lt;= $75,000, Above Poverty</td>\n",
       "      <td>Married</td>\n",
       "      <td>Own</td>\n",
       "      <td>Employed</td>\n",
       "      <td>qufhixun</td>\n",
       "      <td>MSA, Not Principle  City</td>\n",
       "      <td>1.0</td>\n",
       "      <td>0.0</td>\n",
       "      <td>wxleyezf</td>\n",
       "      <td>emcorrxb</td>\n",
       "    </tr>\n",
       "  </tbody>\n",
       "</table>\n",
       "<p>5 rows × 36 columns</p>\n",
       "</div>"
      ],
      "text/plain": [
       "   respondent_id  xyz_concern  xyz_knowledge  behavioral_antiviral_meds  \\\n",
       "0              0          1.0            0.0                        0.0   \n",
       "1              1          3.0            2.0                        0.0   \n",
       "2              2          1.0            1.0                        0.0   \n",
       "3              3          1.0            1.0                        0.0   \n",
       "4              4          2.0            1.0                        0.0   \n",
       "\n",
       "   behavioral_avoidance  behavioral_face_mask  behavioral_wash_hands  \\\n",
       "0                   0.0                   0.0                    0.0   \n",
       "1                   1.0                   0.0                    1.0   \n",
       "2                   1.0                   0.0                    0.0   \n",
       "3                   1.0                   0.0                    1.0   \n",
       "4                   1.0                   0.0                    1.0   \n",
       "\n",
       "   behavioral_large_gatherings  behavioral_outside_home  \\\n",
       "0                          0.0                      1.0   \n",
       "1                          0.0                      1.0   \n",
       "2                          0.0                      0.0   \n",
       "3                          1.0                      0.0   \n",
       "4                          1.0                      0.0   \n",
       "\n",
       "   behavioral_touch_face  ...             income_poverty  marital_status  \\\n",
       "0                    1.0  ...              Below Poverty     Not Married   \n",
       "1                    1.0  ...              Below Poverty     Not Married   \n",
       "2                    0.0  ...  <= $75,000, Above Poverty     Not Married   \n",
       "3                    0.0  ...              Below Poverty     Not Married   \n",
       "4                    1.0  ...  <= $75,000, Above Poverty         Married   \n",
       "\n",
       "   rent_or_own   employment_status  hhs_geo_region                census_msa  \\\n",
       "0          Own  Not in Labor Force        oxchjgsf                   Non-MSA   \n",
       "1         Rent            Employed        bhuqouqj  MSA, Not Principle  City   \n",
       "2          Own            Employed        qufhixun  MSA, Not Principle  City   \n",
       "3         Rent  Not in Labor Force        lrircsnp       MSA, Principle City   \n",
       "4          Own            Employed        qufhixun  MSA, Not Principle  City   \n",
       "\n",
       "   household_adults  household_children  employment_industry  \\\n",
       "0               0.0                 0.0                  NaN   \n",
       "1               0.0                 0.0             pxcmvdjn   \n",
       "2               2.0                 0.0             rucpziij   \n",
       "3               0.0                 0.0                  NaN   \n",
       "4               1.0                 0.0             wxleyezf   \n",
       "\n",
       "   employment_occupation  \n",
       "0                    NaN  \n",
       "1               xgwztkwe  \n",
       "2               xtkaffoo  \n",
       "3                    NaN  \n",
       "4               emcorrxb  \n",
       "\n",
       "[5 rows x 36 columns]"
      ]
     },
     "execution_count": 5,
     "metadata": {},
     "output_type": "execute_result"
    }
   ],
   "source": [
    "train_features.head()"
   ]
  },
  {
   "cell_type": "code",
   "execution_count": 6,
   "id": "9ff6969e",
   "metadata": {
    "execution": {
     "iopub.execute_input": "2025-07-23T16:56:28.483662Z",
     "iopub.status.busy": "2025-07-23T16:56:28.483309Z",
     "iopub.status.idle": "2025-07-23T16:56:28.494733Z",
     "shell.execute_reply": "2025-07-23T16:56:28.493809Z"
    },
    "papermill": {
     "duration": 0.022139,
     "end_time": "2025-07-23T16:56:28.496232",
     "exception": false,
     "start_time": "2025-07-23T16:56:28.474093",
     "status": "completed"
    },
    "tags": []
   },
   "outputs": [
    {
     "data": {
      "text/plain": [
       "array(['55 - 64 Years', '35 - 44 Years', '18 - 34 Years', '65+ Years',\n",
       "       '45 - 54 Years'], dtype=object)"
      ]
     },
     "execution_count": 6,
     "metadata": {},
     "output_type": "execute_result"
    }
   ],
   "source": [
    "train_features['age_group'].unique()"
   ]
  },
  {
   "cell_type": "code",
   "execution_count": 7,
   "id": "1756e68e",
   "metadata": {
    "execution": {
     "iopub.execute_input": "2025-07-23T16:56:28.514462Z",
     "iopub.status.busy": "2025-07-23T16:56:28.514131Z",
     "iopub.status.idle": "2025-07-23T16:56:28.520528Z",
     "shell.execute_reply": "2025-07-23T16:56:28.519502Z"
    },
    "papermill": {
     "duration": 0.017499,
     "end_time": "2025-07-23T16:56:28.522094",
     "exception": false,
     "start_time": "2025-07-23T16:56:28.504595",
     "status": "completed"
    },
    "tags": []
   },
   "outputs": [
    {
     "data": {
      "text/plain": [
       "(26707, 36)"
      ]
     },
     "execution_count": 7,
     "metadata": {},
     "output_type": "execute_result"
    }
   ],
   "source": [
    "train_features.shape"
   ]
  },
  {
   "cell_type": "code",
   "execution_count": 8,
   "id": "9562c8fa",
   "metadata": {
    "execution": {
     "iopub.execute_input": "2025-07-23T16:56:28.539986Z",
     "iopub.status.busy": "2025-07-23T16:56:28.539587Z",
     "iopub.status.idle": "2025-07-23T16:56:28.547835Z",
     "shell.execute_reply": "2025-07-23T16:56:28.547106Z"
    },
    "papermill": {
     "duration": 0.018887,
     "end_time": "2025-07-23T16:56:28.549303",
     "exception": false,
     "start_time": "2025-07-23T16:56:28.530416",
     "status": "completed"
    },
    "tags": []
   },
   "outputs": [
    {
     "data": {
      "text/html": [
       "<div>\n",
       "<style scoped>\n",
       "    .dataframe tbody tr th:only-of-type {\n",
       "        vertical-align: middle;\n",
       "    }\n",
       "\n",
       "    .dataframe tbody tr th {\n",
       "        vertical-align: top;\n",
       "    }\n",
       "\n",
       "    .dataframe thead th {\n",
       "        text-align: right;\n",
       "    }\n",
       "</style>\n",
       "<table border=\"1\" class=\"dataframe\">\n",
       "  <thead>\n",
       "    <tr style=\"text-align: right;\">\n",
       "      <th></th>\n",
       "      <th>respondent_id</th>\n",
       "      <th>xyz_vaccine</th>\n",
       "      <th>seasonal_vaccine</th>\n",
       "    </tr>\n",
       "  </thead>\n",
       "  <tbody>\n",
       "    <tr>\n",
       "      <th>0</th>\n",
       "      <td>0</td>\n",
       "      <td>0</td>\n",
       "      <td>0</td>\n",
       "    </tr>\n",
       "    <tr>\n",
       "      <th>1</th>\n",
       "      <td>1</td>\n",
       "      <td>0</td>\n",
       "      <td>1</td>\n",
       "    </tr>\n",
       "    <tr>\n",
       "      <th>2</th>\n",
       "      <td>2</td>\n",
       "      <td>0</td>\n",
       "      <td>0</td>\n",
       "    </tr>\n",
       "    <tr>\n",
       "      <th>3</th>\n",
       "      <td>3</td>\n",
       "      <td>0</td>\n",
       "      <td>1</td>\n",
       "    </tr>\n",
       "    <tr>\n",
       "      <th>4</th>\n",
       "      <td>4</td>\n",
       "      <td>0</td>\n",
       "      <td>0</td>\n",
       "    </tr>\n",
       "  </tbody>\n",
       "</table>\n",
       "</div>"
      ],
      "text/plain": [
       "   respondent_id  xyz_vaccine  seasonal_vaccine\n",
       "0              0            0                 0\n",
       "1              1            0                 1\n",
       "2              2            0                 0\n",
       "3              3            0                 1\n",
       "4              4            0                 0"
      ]
     },
     "execution_count": 8,
     "metadata": {},
     "output_type": "execute_result"
    }
   ],
   "source": [
    "train_label.head()"
   ]
  },
  {
   "cell_type": "code",
   "execution_count": 9,
   "id": "4d64a772",
   "metadata": {
    "execution": {
     "iopub.execute_input": "2025-07-23T16:56:28.568066Z",
     "iopub.status.busy": "2025-07-23T16:56:28.567748Z",
     "iopub.status.idle": "2025-07-23T16:56:28.573410Z",
     "shell.execute_reply": "2025-07-23T16:56:28.572496Z"
    },
    "papermill": {
     "duration": 0.016904,
     "end_time": "2025-07-23T16:56:28.575023",
     "exception": false,
     "start_time": "2025-07-23T16:56:28.558119",
     "status": "completed"
    },
    "tags": []
   },
   "outputs": [
    {
     "data": {
      "text/plain": [
       "(26707, 3)"
      ]
     },
     "execution_count": 9,
     "metadata": {},
     "output_type": "execute_result"
    }
   ],
   "source": [
    "train_label.shape"
   ]
  },
  {
   "cell_type": "code",
   "execution_count": 10,
   "id": "90498b96",
   "metadata": {
    "execution": {
     "iopub.execute_input": "2025-07-23T16:56:28.594351Z",
     "iopub.status.busy": "2025-07-23T16:56:28.593565Z",
     "iopub.status.idle": "2025-07-23T16:56:28.615667Z",
     "shell.execute_reply": "2025-07-23T16:56:28.614728Z"
    },
    "papermill": {
     "duration": 0.033113,
     "end_time": "2025-07-23T16:56:28.617258",
     "exception": false,
     "start_time": "2025-07-23T16:56:28.584145",
     "status": "completed"
    },
    "tags": []
   },
   "outputs": [
    {
     "data": {
      "text/html": [
       "<div>\n",
       "<style scoped>\n",
       "    .dataframe tbody tr th:only-of-type {\n",
       "        vertical-align: middle;\n",
       "    }\n",
       "\n",
       "    .dataframe tbody tr th {\n",
       "        vertical-align: top;\n",
       "    }\n",
       "\n",
       "    .dataframe thead th {\n",
       "        text-align: right;\n",
       "    }\n",
       "</style>\n",
       "<table border=\"1\" class=\"dataframe\">\n",
       "  <thead>\n",
       "    <tr style=\"text-align: right;\">\n",
       "      <th></th>\n",
       "      <th>respondent_id</th>\n",
       "      <th>xyz_concern</th>\n",
       "      <th>xyz_knowledge</th>\n",
       "      <th>behavioral_antiviral_meds</th>\n",
       "      <th>behavioral_avoidance</th>\n",
       "      <th>behavioral_face_mask</th>\n",
       "      <th>behavioral_wash_hands</th>\n",
       "      <th>behavioral_large_gatherings</th>\n",
       "      <th>behavioral_outside_home</th>\n",
       "      <th>behavioral_touch_face</th>\n",
       "      <th>...</th>\n",
       "      <th>income_poverty</th>\n",
       "      <th>marital_status</th>\n",
       "      <th>rent_or_own</th>\n",
       "      <th>employment_status</th>\n",
       "      <th>hhs_geo_region</th>\n",
       "      <th>census_msa</th>\n",
       "      <th>household_adults</th>\n",
       "      <th>household_children</th>\n",
       "      <th>employment_industry</th>\n",
       "      <th>employment_occupation</th>\n",
       "    </tr>\n",
       "  </thead>\n",
       "  <tbody>\n",
       "    <tr>\n",
       "      <th>0</th>\n",
       "      <td>26707</td>\n",
       "      <td>2.0</td>\n",
       "      <td>2.0</td>\n",
       "      <td>0.0</td>\n",
       "      <td>1.0</td>\n",
       "      <td>0.0</td>\n",
       "      <td>1.0</td>\n",
       "      <td>1.0</td>\n",
       "      <td>0.0</td>\n",
       "      <td>1.0</td>\n",
       "      <td>...</td>\n",
       "      <td>&gt; $75,000</td>\n",
       "      <td>Not Married</td>\n",
       "      <td>Rent</td>\n",
       "      <td>Employed</td>\n",
       "      <td>mlyzmhmf</td>\n",
       "      <td>MSA, Not Principle  City</td>\n",
       "      <td>1.0</td>\n",
       "      <td>0.0</td>\n",
       "      <td>atmlpfrs</td>\n",
       "      <td>hfxkjkmi</td>\n",
       "    </tr>\n",
       "    <tr>\n",
       "      <th>1</th>\n",
       "      <td>26708</td>\n",
       "      <td>1.0</td>\n",
       "      <td>1.0</td>\n",
       "      <td>0.0</td>\n",
       "      <td>0.0</td>\n",
       "      <td>0.0</td>\n",
       "      <td>0.0</td>\n",
       "      <td>0.0</td>\n",
       "      <td>0.0</td>\n",
       "      <td>0.0</td>\n",
       "      <td>...</td>\n",
       "      <td>Below Poverty</td>\n",
       "      <td>Not Married</td>\n",
       "      <td>Rent</td>\n",
       "      <td>Employed</td>\n",
       "      <td>bhuqouqj</td>\n",
       "      <td>Non-MSA</td>\n",
       "      <td>3.0</td>\n",
       "      <td>0.0</td>\n",
       "      <td>atmlpfrs</td>\n",
       "      <td>xqwwgdyp</td>\n",
       "    </tr>\n",
       "    <tr>\n",
       "      <th>2</th>\n",
       "      <td>26709</td>\n",
       "      <td>2.0</td>\n",
       "      <td>2.0</td>\n",
       "      <td>0.0</td>\n",
       "      <td>0.0</td>\n",
       "      <td>1.0</td>\n",
       "      <td>1.0</td>\n",
       "      <td>1.0</td>\n",
       "      <td>1.0</td>\n",
       "      <td>1.0</td>\n",
       "      <td>...</td>\n",
       "      <td>&gt; $75,000</td>\n",
       "      <td>Married</td>\n",
       "      <td>Own</td>\n",
       "      <td>Employed</td>\n",
       "      <td>lrircsnp</td>\n",
       "      <td>Non-MSA</td>\n",
       "      <td>1.0</td>\n",
       "      <td>0.0</td>\n",
       "      <td>nduyfdeo</td>\n",
       "      <td>pvmttkik</td>\n",
       "    </tr>\n",
       "    <tr>\n",
       "      <th>3</th>\n",
       "      <td>26710</td>\n",
       "      <td>1.0</td>\n",
       "      <td>1.0</td>\n",
       "      <td>0.0</td>\n",
       "      <td>0.0</td>\n",
       "      <td>0.0</td>\n",
       "      <td>0.0</td>\n",
       "      <td>0.0</td>\n",
       "      <td>0.0</td>\n",
       "      <td>0.0</td>\n",
       "      <td>...</td>\n",
       "      <td>&lt;= $75,000, Above Poverty</td>\n",
       "      <td>Married</td>\n",
       "      <td>Own</td>\n",
       "      <td>Not in Labor Force</td>\n",
       "      <td>lrircsnp</td>\n",
       "      <td>MSA, Not Principle  City</td>\n",
       "      <td>1.0</td>\n",
       "      <td>0.0</td>\n",
       "      <td>NaN</td>\n",
       "      <td>NaN</td>\n",
       "    </tr>\n",
       "    <tr>\n",
       "      <th>4</th>\n",
       "      <td>26711</td>\n",
       "      <td>3.0</td>\n",
       "      <td>1.0</td>\n",
       "      <td>1.0</td>\n",
       "      <td>1.0</td>\n",
       "      <td>0.0</td>\n",
       "      <td>1.0</td>\n",
       "      <td>1.0</td>\n",
       "      <td>1.0</td>\n",
       "      <td>1.0</td>\n",
       "      <td>...</td>\n",
       "      <td>&lt;= $75,000, Above Poverty</td>\n",
       "      <td>Not Married</td>\n",
       "      <td>Own</td>\n",
       "      <td>Employed</td>\n",
       "      <td>lzgpxyit</td>\n",
       "      <td>Non-MSA</td>\n",
       "      <td>0.0</td>\n",
       "      <td>1.0</td>\n",
       "      <td>fcxhlnwr</td>\n",
       "      <td>mxkfnird</td>\n",
       "    </tr>\n",
       "  </tbody>\n",
       "</table>\n",
       "<p>5 rows × 36 columns</p>\n",
       "</div>"
      ],
      "text/plain": [
       "   respondent_id  xyz_concern  xyz_knowledge  behavioral_antiviral_meds  \\\n",
       "0          26707          2.0            2.0                        0.0   \n",
       "1          26708          1.0            1.0                        0.0   \n",
       "2          26709          2.0            2.0                        0.0   \n",
       "3          26710          1.0            1.0                        0.0   \n",
       "4          26711          3.0            1.0                        1.0   \n",
       "\n",
       "   behavioral_avoidance  behavioral_face_mask  behavioral_wash_hands  \\\n",
       "0                   1.0                   0.0                    1.0   \n",
       "1                   0.0                   0.0                    0.0   \n",
       "2                   0.0                   1.0                    1.0   \n",
       "3                   0.0                   0.0                    0.0   \n",
       "4                   1.0                   0.0                    1.0   \n",
       "\n",
       "   behavioral_large_gatherings  behavioral_outside_home  \\\n",
       "0                          1.0                      0.0   \n",
       "1                          0.0                      0.0   \n",
       "2                          1.0                      1.0   \n",
       "3                          0.0                      0.0   \n",
       "4                          1.0                      1.0   \n",
       "\n",
       "   behavioral_touch_face  ...             income_poverty  marital_status  \\\n",
       "0                    1.0  ...                  > $75,000     Not Married   \n",
       "1                    0.0  ...              Below Poverty     Not Married   \n",
       "2                    1.0  ...                  > $75,000         Married   \n",
       "3                    0.0  ...  <= $75,000, Above Poverty         Married   \n",
       "4                    1.0  ...  <= $75,000, Above Poverty     Not Married   \n",
       "\n",
       "   rent_or_own   employment_status  hhs_geo_region                census_msa  \\\n",
       "0         Rent            Employed        mlyzmhmf  MSA, Not Principle  City   \n",
       "1         Rent            Employed        bhuqouqj                   Non-MSA   \n",
       "2          Own            Employed        lrircsnp                   Non-MSA   \n",
       "3          Own  Not in Labor Force        lrircsnp  MSA, Not Principle  City   \n",
       "4          Own            Employed        lzgpxyit                   Non-MSA   \n",
       "\n",
       "   household_adults  household_children  employment_industry  \\\n",
       "0               1.0                 0.0             atmlpfrs   \n",
       "1               3.0                 0.0             atmlpfrs   \n",
       "2               1.0                 0.0             nduyfdeo   \n",
       "3               1.0                 0.0                  NaN   \n",
       "4               0.0                 1.0             fcxhlnwr   \n",
       "\n",
       "   employment_occupation  \n",
       "0               hfxkjkmi  \n",
       "1               xqwwgdyp  \n",
       "2               pvmttkik  \n",
       "3                    NaN  \n",
       "4               mxkfnird  \n",
       "\n",
       "[5 rows x 36 columns]"
      ]
     },
     "execution_count": 10,
     "metadata": {},
     "output_type": "execute_result"
    }
   ],
   "source": [
    "test.head()"
   ]
  },
  {
   "cell_type": "code",
   "execution_count": 11,
   "id": "b6cf1f75",
   "metadata": {
    "execution": {
     "iopub.execute_input": "2025-07-23T16:56:28.635932Z",
     "iopub.status.busy": "2025-07-23T16:56:28.635603Z",
     "iopub.status.idle": "2025-07-23T16:56:28.641769Z",
     "shell.execute_reply": "2025-07-23T16:56:28.640901Z"
    },
    "papermill": {
     "duration": 0.017063,
     "end_time": "2025-07-23T16:56:28.643280",
     "exception": false,
     "start_time": "2025-07-23T16:56:28.626217",
     "status": "completed"
    },
    "tags": []
   },
   "outputs": [
    {
     "data": {
      "text/plain": [
       "(26708, 36)"
      ]
     },
     "execution_count": 11,
     "metadata": {},
     "output_type": "execute_result"
    }
   ],
   "source": [
    "test.shape"
   ]
  },
  {
   "cell_type": "markdown",
   "id": "116310dd",
   "metadata": {
    "papermill": {
     "duration": 0.008498,
     "end_time": "2025-07-23T16:56:28.660734",
     "exception": false,
     "start_time": "2025-07-23T16:56:28.652236",
     "status": "completed"
    },
    "tags": []
   },
   "source": [
    "# EDA ON TRAIN_FEATURES"
   ]
  },
  {
   "cell_type": "code",
   "execution_count": 12,
   "id": "6b240f63",
   "metadata": {
    "execution": {
     "iopub.execute_input": "2025-07-23T16:56:28.679612Z",
     "iopub.status.busy": "2025-07-23T16:56:28.679302Z",
     "iopub.status.idle": "2025-07-23T16:56:28.705611Z",
     "shell.execute_reply": "2025-07-23T16:56:28.704814Z"
    },
    "papermill": {
     "duration": 0.037558,
     "end_time": "2025-07-23T16:56:28.707085",
     "exception": false,
     "start_time": "2025-07-23T16:56:28.669527",
     "status": "completed"
    },
    "tags": []
   },
   "outputs": [
    {
     "data": {
      "text/plain": [
       "respondent_id                      0\n",
       "xyz_concern                       92\n",
       "xyz_knowledge                    116\n",
       "behavioral_antiviral_meds         71\n",
       "behavioral_avoidance             208\n",
       "behavioral_face_mask              19\n",
       "behavioral_wash_hands             42\n",
       "behavioral_large_gatherings       87\n",
       "behavioral_outside_home           82\n",
       "behavioral_touch_face            128\n",
       "doctor_recc_xyz                 2160\n",
       "doctor_recc_seasonal            2160\n",
       "chronic_med_condition            971\n",
       "child_under_6_months             820\n",
       "health_worker                    804\n",
       "health_insurance               12274\n",
       "opinion_xyz_vacc_effective       391\n",
       "opinion_xyz_risk                 388\n",
       "opinion_xyz_sick_from_vacc       395\n",
       "opinion_seas_vacc_effective      462\n",
       "opinion_seas_risk                514\n",
       "opinion_seas_sick_from_vacc      537\n",
       "age_group                          0\n",
       "education                       1407\n",
       "race                               0\n",
       "sex                                0\n",
       "income_poverty                  4423\n",
       "marital_status                  1408\n",
       "rent_or_own                     2042\n",
       "employment_status               1463\n",
       "hhs_geo_region                     0\n",
       "census_msa                         0\n",
       "household_adults                 249\n",
       "household_children               249\n",
       "employment_industry            13330\n",
       "employment_occupation          13470\n",
       "dtype: int64"
      ]
     },
     "execution_count": 12,
     "metadata": {},
     "output_type": "execute_result"
    }
   ],
   "source": [
    "train_features.isnull().sum()"
   ]
  },
  {
   "cell_type": "code",
   "execution_count": 13,
   "id": "01396320",
   "metadata": {
    "execution": {
     "iopub.execute_input": "2025-07-23T16:56:28.726967Z",
     "iopub.status.busy": "2025-07-23T16:56:28.726233Z",
     "iopub.status.idle": "2025-07-23T16:56:28.763993Z",
     "shell.execute_reply": "2025-07-23T16:56:28.762906Z"
    },
    "papermill": {
     "duration": 0.049651,
     "end_time": "2025-07-23T16:56:28.765801",
     "exception": false,
     "start_time": "2025-07-23T16:56:28.716150",
     "status": "completed"
    },
    "tags": []
   },
   "outputs": [
    {
     "name": "stdout",
     "output_type": "stream",
     "text": [
      "<class 'pandas.core.frame.DataFrame'>\n",
      "RangeIndex: 26707 entries, 0 to 26706\n",
      "Data columns (total 36 columns):\n",
      " #   Column                       Non-Null Count  Dtype  \n",
      "---  ------                       --------------  -----  \n",
      " 0   respondent_id                26707 non-null  int64  \n",
      " 1   xyz_concern                  26615 non-null  float64\n",
      " 2   xyz_knowledge                26591 non-null  float64\n",
      " 3   behavioral_antiviral_meds    26636 non-null  float64\n",
      " 4   behavioral_avoidance         26499 non-null  float64\n",
      " 5   behavioral_face_mask         26688 non-null  float64\n",
      " 6   behavioral_wash_hands        26665 non-null  float64\n",
      " 7   behavioral_large_gatherings  26620 non-null  float64\n",
      " 8   behavioral_outside_home      26625 non-null  float64\n",
      " 9   behavioral_touch_face        26579 non-null  float64\n",
      " 10  doctor_recc_xyz              24547 non-null  float64\n",
      " 11  doctor_recc_seasonal         24547 non-null  float64\n",
      " 12  chronic_med_condition        25736 non-null  float64\n",
      " 13  child_under_6_months         25887 non-null  float64\n",
      " 14  health_worker                25903 non-null  float64\n",
      " 15  health_insurance             14433 non-null  float64\n",
      " 16  opinion_xyz_vacc_effective   26316 non-null  float64\n",
      " 17  opinion_xyz_risk             26319 non-null  float64\n",
      " 18  opinion_xyz_sick_from_vacc   26312 non-null  float64\n",
      " 19  opinion_seas_vacc_effective  26245 non-null  float64\n",
      " 20  opinion_seas_risk            26193 non-null  float64\n",
      " 21  opinion_seas_sick_from_vacc  26170 non-null  float64\n",
      " 22  age_group                    26707 non-null  object \n",
      " 23  education                    25300 non-null  object \n",
      " 24  race                         26707 non-null  object \n",
      " 25  sex                          26707 non-null  object \n",
      " 26  income_poverty               22284 non-null  object \n",
      " 27  marital_status               25299 non-null  object \n",
      " 28  rent_or_own                  24665 non-null  object \n",
      " 29  employment_status            25244 non-null  object \n",
      " 30  hhs_geo_region               26707 non-null  object \n",
      " 31  census_msa                   26707 non-null  object \n",
      " 32  household_adults             26458 non-null  float64\n",
      " 33  household_children           26458 non-null  float64\n",
      " 34  employment_industry          13377 non-null  object \n",
      " 35  employment_occupation        13237 non-null  object \n",
      "dtypes: float64(23), int64(1), object(12)\n",
      "memory usage: 7.3+ MB\n"
     ]
    }
   ],
   "source": [
    "train_features.info()"
   ]
  },
  {
   "cell_type": "code",
   "execution_count": 14,
   "id": "6dd32371",
   "metadata": {
    "execution": {
     "iopub.execute_input": "2025-07-23T16:56:28.785441Z",
     "iopub.status.busy": "2025-07-23T16:56:28.785143Z",
     "iopub.status.idle": "2025-07-23T16:56:28.790943Z",
     "shell.execute_reply": "2025-07-23T16:56:28.789855Z"
    },
    "papermill": {
     "duration": 0.017276,
     "end_time": "2025-07-23T16:56:28.792468",
     "exception": false,
     "start_time": "2025-07-23T16:56:28.775192",
     "status": "completed"
    },
    "tags": []
   },
   "outputs": [],
   "source": [
    "special_characters = set('[]<>')\n",
    "\n",
    "# Function to remove special characters from a string\n",
    "def remove_special_characters(feature_name, special_characters):\n",
    "    return ''.join(char for char in feature_name if char not in special_characters)\n",
    "\n",
    "# Clean feature names\n",
    "train_features.columns = [remove_special_characters(col, special_characters) for col in train_features.columns]\n",
    "\n"
   ]
  },
  {
   "cell_type": "code",
   "execution_count": 15,
   "id": "770eb319",
   "metadata": {
    "execution": {
     "iopub.execute_input": "2025-07-23T16:56:28.882047Z",
     "iopub.status.busy": "2025-07-23T16:56:28.881765Z",
     "iopub.status.idle": "2025-07-23T16:56:30.800521Z",
     "shell.execute_reply": "2025-07-23T16:56:30.799576Z"
    },
    "papermill": {
     "duration": 2.000942,
     "end_time": "2025-07-23T16:56:30.802530",
     "exception": false,
     "start_time": "2025-07-23T16:56:28.801588",
     "status": "completed"
    },
    "tags": []
   },
   "outputs": [
    {
     "data": {
      "text/plain": [
       "<Axes: >"
      ]
     },
     "execution_count": 15,
     "metadata": {},
     "output_type": "execute_result"
    },
    {
     "data": {
      "image/png": "[encoded data removed]",
      "text/plain": [
       "<Figure size 640x480 with 1 Axes>"
      ]
     },
     "metadata": {},
     "output_type": "display_data"
    }
   ],
   "source": [
    "sns.heatmap(train_features.isnull(), cbar=False, cmap='viridis')"
   ]
  },
  {
   "cell_type": "code",
   "execution_count": 16,
   "id": "2c5c9d2e",
   "metadata": {
    "execution": {
     "iopub.execute_input": "2025-07-23T16:56:30.824972Z",
     "iopub.status.busy": "2025-07-23T16:56:30.824630Z",
     "iopub.status.idle": "2025-07-23T16:56:30.830557Z",
     "shell.execute_reply": "2025-07-23T16:56:30.829706Z"
    },
    "papermill": {
     "duration": 0.018729,
     "end_time": "2025-07-23T16:56:30.832109",
     "exception": false,
     "start_time": "2025-07-23T16:56:30.813380",
     "status": "completed"
    },
    "tags": []
   },
   "outputs": [
    {
     "data": {
      "text/plain": [
       "(26707, 36)"
      ]
     },
     "execution_count": 16,
     "metadata": {},
     "output_type": "execute_result"
    }
   ],
   "source": [
    "train_features.shape"
   ]
  },
  {
   "cell_type": "code",
   "execution_count": 17,
   "id": "2476edf3",
   "metadata": {
    "execution": {
     "iopub.execute_input": "2025-07-23T16:56:30.854721Z",
     "iopub.status.busy": "2025-07-23T16:56:30.854343Z",
     "iopub.status.idle": "2025-07-23T16:56:30.878332Z",
     "shell.execute_reply": "2025-07-23T16:56:30.877316Z"
    },
    "papermill": {
     "duration": 0.037124,
     "end_time": "2025-07-23T16:56:30.880052",
     "exception": false,
     "start_time": "2025-07-23T16:56:30.842928",
     "status": "completed"
    },
    "tags": []
   },
   "outputs": [
    {
     "name": "stdout",
     "output_type": "stream",
     "text": [
      "Column: age_group\n",
      "Categories: ['35 - 44 Years' '18 - 34 Years' '55 - 64 Years' '65+ Years'\n",
      " '45 - 54 Years']\n",
      "\n",
      "Column: education\n",
      "Categories: ['College Graduate' '12 Years' 'Some College' '< 12 Years' nan]\n",
      "\n",
      "Column: race\n",
      "Categories: ['Hispanic' 'White' 'Black' 'Other or Multiple']\n",
      "\n",
      "Column: sex\n",
      "Categories: ['Female' 'Male']\n",
      "\n",
      "Column: income_poverty\n",
      "Categories: ['> $75,000' 'Below Poverty' '<= $75,000, Above Poverty' nan]\n",
      "\n",
      "Column: marital_status\n",
      "Categories: ['Not Married' 'Married' nan]\n",
      "\n",
      "Column: rent_or_own\n",
      "Categories: ['Rent' 'Own' nan]\n",
      "\n",
      "Column: employment_status\n",
      "Categories: ['Employed' 'Not in Labor Force' 'Unemployed' nan]\n",
      "\n",
      "Column: hhs_geo_region\n",
      "Categories: ['mlyzmhmf' 'bhuqouqj' 'lrircsnp' 'lzgpxyit' 'fpwskwrf' 'oxchjgsf'\n",
      " 'dqpwygqj' 'qufhixun' 'kbazzjca' 'atmpeygn']\n",
      "\n",
      "Column: census_msa\n",
      "Categories: ['MSA, Not Principle  City' 'Non-MSA' 'MSA, Principle City']\n",
      "\n",
      "Column: employment_industry\n",
      "Categories: ['atmlpfrs' 'nduyfdeo' nan 'fcxhlnwr' 'pxcmvdjn' 'arjwrbjb' 'mfikgejo'\n",
      " 'rucpziij' 'wxleyezf' 'haxffmxo' 'ldnlellj' 'vjjrobsf' 'cfqqtusy'\n",
      " 'xicduogh' 'dotnnunm' 'xqicxuve' 'wlfvacwt' 'saaquncn' 'msuufmds'\n",
      " 'mcubkhph' 'phxvnwax' 'qnlwzans']\n",
      "\n",
      "Column: employment_occupation\n",
      "Categories: ['hfxkjkmi' 'xqwwgdyp' 'pvmttkik' nan 'mxkfnird' 'cmhcxjea' 'xgwztkwe'\n",
      " 'tfqavkke' 'vlluhbov' 'dcjcmpih' 'xtkaffoo' 'hodpvpew' 'oijqvulv'\n",
      " 'kldqjyjy' 'emcorrxb' 'qxajmpny' 'haliazsg' 'ukymxvdu' 'dlvbwzss'\n",
      " 'uqqtjvyb' 'ccgxvspp' 'rcertsgn' 'bxpfxfdn' 'xzmlyyjv']\n",
      "\n",
      "12\n"
     ]
    }
   ],
   "source": [
    "categorical_columns = test.select_dtypes(include=['object', 'category']).columns\n",
    "\n",
    "for col in categorical_columns:\n",
    "    unique_categories = test[col].unique()\n",
    "    print(f\"Column: {col}\")\n",
    "    print(f\"Categories: {unique_categories}\")\n",
    "    print()\n",
    "\n",
    "# Count the number of categorical columns\n",
    "num_categorical_columns = len(categorical_columns)\n",
    "print(num_categorical_columns)"
   ]
  },
  {
   "cell_type": "code",
   "execution_count": 18,
   "id": "79f8d9bd",
   "metadata": {
    "execution": {
     "iopub.execute_input": "2025-07-23T16:56:30.903736Z",
     "iopub.status.busy": "2025-07-23T16:56:30.903355Z",
     "iopub.status.idle": "2025-07-23T16:56:30.929582Z",
     "shell.execute_reply": "2025-07-23T16:56:30.928614Z"
    },
    "papermill": {
     "duration": 0.039691,
     "end_time": "2025-07-23T16:56:30.931193",
     "exception": false,
     "start_time": "2025-07-23T16:56:30.891502",
     "status": "completed"
    },
    "tags": []
   },
   "outputs": [
    {
     "data": {
      "text/plain": [
       "respondent_id                      0\n",
       "xyz_concern                       92\n",
       "xyz_knowledge                    116\n",
       "behavioral_antiviral_meds         71\n",
       "behavioral_avoidance             208\n",
       "behavioral_face_mask              19\n",
       "behavioral_wash_hands             42\n",
       "behavioral_large_gatherings       87\n",
       "behavioral_outside_home           82\n",
       "behavioral_touch_face            128\n",
       "doctor_recc_xyz                 2160\n",
       "doctor_recc_seasonal            2160\n",
       "chronic_med_condition            971\n",
       "child_under_6_months             820\n",
       "health_worker                    804\n",
       "health_insurance               12274\n",
       "opinion_xyz_vacc_effective       391\n",
       "opinion_xyz_risk                 388\n",
       "opinion_xyz_sick_from_vacc       395\n",
       "opinion_seas_vacc_effective      462\n",
       "opinion_seas_risk                514\n",
       "opinion_seas_sick_from_vacc      537\n",
       "age_group                          0\n",
       "education                       1407\n",
       "race                               0\n",
       "sex                                0\n",
       "income_poverty                  4423\n",
       "marital_status                  1408\n",
       "rent_or_own                     2042\n",
       "employment_status               1463\n",
       "hhs_geo_region                     0\n",
       "census_msa                         0\n",
       "household_adults                 249\n",
       "household_children               249\n",
       "employment_industry            13330\n",
       "employment_occupation          13470\n",
       "dtype: int64"
      ]
     },
     "execution_count": 18,
     "metadata": {},
     "output_type": "execute_result"
    }
   ],
   "source": [
    "train_features.isnull().sum()"
   ]
  },
  {
   "cell_type": "code",
   "execution_count": 19,
   "id": "740ac0c3",
   "metadata": {
    "execution": {
     "iopub.execute_input": "2025-07-23T16:56:30.954558Z",
     "iopub.status.busy": "2025-07-23T16:56:30.954263Z",
     "iopub.status.idle": "2025-07-23T16:56:31.013778Z",
     "shell.execute_reply": "2025-07-23T16:56:31.012851Z"
    },
    "papermill": {
     "duration": 0.07311,
     "end_time": "2025-07-23T16:56:31.015405",
     "exception": false,
     "start_time": "2025-07-23T16:56:30.942295",
     "status": "completed"
    },
    "tags": []
   },
   "outputs": [],
   "source": [
    "train_features['xyz_concern']=train_features['xyz_concern'].fillna(train_features['xyz_concern'].median())\n",
    "train_features['xyz_knowledge']=train_features['xyz_knowledge'].fillna(train_features['xyz_knowledge'].median())\n",
    "train_features['behavioral_antiviral_meds']=train_features['behavioral_antiviral_meds'].fillna(train_features['behavioral_antiviral_meds'].median())\n",
    "train_features['behavioral_avoidance']=train_features['behavioral_avoidance'].fillna(train_features['behavioral_avoidance'].mode()[0])\n",
    "train_features['behavioral_face_mask']=train_features['behavioral_face_mask'].fillna(train_features['behavioral_face_mask'].mode()[0])\n",
    "train_features['behavioral_wash_hands']=train_features['behavioral_wash_hands'].fillna(train_features['behavioral_wash_hands'].mode()[0])\n",
    "train_features['behavioral_large_gatherings']=train_features['behavioral_large_gatherings'].fillna(train_features['behavioral_large_gatherings'].mode()[0])\n",
    "train_features['behavioral_outside_home']=train_features['behavioral_outside_home'].fillna(train_features['behavioral_outside_home'].mode()[0])\n",
    "train_features['behavioral_touch_face']=train_features['behavioral_touch_face'].fillna(train_features['behavioral_touch_face'].mode()[0])\n",
    "train_features['doctor_recc_xyz']=train_features['doctor_recc_xyz'].fillna(train_features['doctor_recc_xyz'].mode()[0])\n",
    "train_features['doctor_recc_seasonal']=train_features['doctor_recc_seasonal'].fillna(train_features['doctor_recc_seasonal'].mode()[0])\n",
    "train_features['chronic_med_condition']=train_features['chronic_med_condition'].fillna(train_features['chronic_med_condition'].mode()[0])\n",
    "train_features['child_under_6_months']=train_features['child_under_6_months'].fillna(train_features['child_under_6_months'].mode()[0])\n",
    "train_features['health_worker']=train_features['health_worker'].fillna(train_features['health_worker'].mode()[0])\n",
    "train_features['health_insurance']=train_features['health_insurance'].fillna(train_features['health_insurance'].mode()[0])\n",
    "train_features['opinion_xyz_vacc_effective']=train_features['opinion_xyz_vacc_effective'].fillna(train_features['opinion_xyz_vacc_effective'].mode()[0])\n",
    "train_features['opinion_xyz_risk']=train_features['opinion_xyz_risk'].fillna(train_features['opinion_xyz_risk'].mode()[0])\n",
    "train_features['opinion_xyz_sick_from_vacc']=train_features['opinion_xyz_sick_from_vacc'].fillna(train_features['opinion_xyz_sick_from_vacc'].mode()[0])\n",
    "train_features['opinion_seas_vacc_effective']=train_features['opinion_seas_vacc_effective'].fillna(train_features['opinion_seas_vacc_effective'].mode()[0])\n",
    "train_features['opinion_seas_risk']=train_features['opinion_seas_risk'].fillna(train_features['opinion_seas_risk'].mode()[0])\n",
    "train_features['opinion_seas_sick_from_vacc']=train_features['opinion_seas_sick_from_vacc'].fillna(train_features['opinion_seas_sick_from_vacc'].mode()[0])\n",
    "train_features['education']=train_features['education'].fillna(train_features['education'].mode()[0])\n",
    "train_features['income_poverty']=train_features['income_poverty'].fillna(train_features['income_poverty'].mode()[0])\n",
    "train_features['marital_status']=train_features['marital_status'].fillna(train_features['marital_status'].mode()[0])\n",
    "train_features['rent_or_own']=train_features['rent_or_own'].fillna(train_features['rent_or_own'].mode()[0])\n",
    "train_features['employment_status']=train_features['employment_status'].fillna(train_features['employment_status'].mode()[0])\n",
    "train_features['household_adults']=train_features['household_adults'].fillna(train_features['household_adults'].mode()[0])\n",
    "train_features['household_children']=train_features['household_children'].fillna(train_features['household_children'].mode()[0])"
   ]
  },
  {
   "cell_type": "code",
   "execution_count": 20,
   "id": "374236ba",
   "metadata": {
    "execution": {
     "iopub.execute_input": "2025-07-23T16:56:31.038450Z",
     "iopub.status.busy": "2025-07-23T16:56:31.038106Z",
     "iopub.status.idle": "2025-07-23T16:56:31.049187Z",
     "shell.execute_reply": "2025-07-23T16:56:31.048101Z"
    },
    "papermill": {
     "duration": 0.024621,
     "end_time": "2025-07-23T16:56:31.050968",
     "exception": false,
     "start_time": "2025-07-23T16:56:31.026347",
     "status": "completed"
    },
    "tags": []
   },
   "outputs": [],
   "source": [
    "train_features.drop(columns=['employment_industry','employment_occupation','hhs_geo_region'],inplace=True)"
   ]
  },
  {
   "cell_type": "code",
   "execution_count": 21,
   "id": "5f61778e",
   "metadata": {
    "execution": {
     "iopub.execute_input": "2025-07-23T16:56:31.075257Z",
     "iopub.status.busy": "2025-07-23T16:56:31.074912Z",
     "iopub.status.idle": "2025-07-23T16:56:31.115767Z",
     "shell.execute_reply": "2025-07-23T16:56:31.114796Z"
    },
    "papermill": {
     "duration": 0.055184,
     "end_time": "2025-07-23T16:56:31.117632",
     "exception": false,
     "start_time": "2025-07-23T16:56:31.062448",
     "status": "completed"
    },
    "tags": []
   },
   "outputs": [],
   "source": [
    "train_features=pd.get_dummies(train_features,columns=['age_group','education','race','sex','income_poverty','marital_status',\n",
    "                                                     'rent_or_own','employment_status','census_msa'],drop_first=True)"
   ]
  },
  {
   "cell_type": "code",
   "execution_count": 22,
   "id": "46a06f73",
   "metadata": {
    "execution": {
     "iopub.execute_input": "2025-07-23T16:56:31.140552Z",
     "iopub.status.busy": "2025-07-23T16:56:31.140202Z",
     "iopub.status.idle": "2025-07-23T16:56:31.146271Z",
     "shell.execute_reply": "2025-07-23T16:56:31.145138Z"
    },
    "papermill": {
     "duration": 0.019213,
     "end_time": "2025-07-23T16:56:31.147768",
     "exception": false,
     "start_time": "2025-07-23T16:56:31.128555",
     "status": "completed"
    },
    "tags": []
   },
   "outputs": [
    {
     "data": {
      "text/plain": [
       "(26707, 43)"
      ]
     },
     "execution_count": 22,
     "metadata": {},
     "output_type": "execute_result"
    }
   ],
   "source": [
    "train_features.shape"
   ]
  },
  {
   "cell_type": "markdown",
   "id": "2a332afa",
   "metadata": {
    "papermill": {
     "duration": 0.010296,
     "end_time": "2025-07-23T16:56:31.169007",
     "exception": false,
     "start_time": "2025-07-23T16:56:31.158711",
     "status": "completed"
    },
    "tags": []
   },
   "source": [
    "# EDA ON TEST"
   ]
  },
  {
   "cell_type": "code",
   "execution_count": 23,
   "id": "c451af01",
   "metadata": {
    "execution": {
     "iopub.execute_input": "2025-07-23T16:56:31.192191Z",
     "iopub.status.busy": "2025-07-23T16:56:31.191336Z",
     "iopub.status.idle": "2025-07-23T16:56:31.197344Z",
     "shell.execute_reply": "2025-07-23T16:56:31.196370Z"
    },
    "papermill": {
     "duration": 0.019509,
     "end_time": "2025-07-23T16:56:31.199153",
     "exception": false,
     "start_time": "2025-07-23T16:56:31.179644",
     "status": "completed"
    },
    "tags": []
   },
   "outputs": [
    {
     "data": {
      "text/plain": [
       "(26708, 36)"
      ]
     },
     "execution_count": 23,
     "metadata": {},
     "output_type": "execute_result"
    }
   ],
   "source": [
    "test.shape"
   ]
  },
  {
   "cell_type": "code",
   "execution_count": 24,
   "id": "0aab25f1",
   "metadata": {
    "execution": {
     "iopub.execute_input": "2025-07-23T16:56:31.222512Z",
     "iopub.status.busy": "2025-07-23T16:56:31.222167Z",
     "iopub.status.idle": "2025-07-23T16:56:31.248072Z",
     "shell.execute_reply": "2025-07-23T16:56:31.247149Z"
    },
    "papermill": {
     "duration": 0.039477,
     "end_time": "2025-07-23T16:56:31.249733",
     "exception": false,
     "start_time": "2025-07-23T16:56:31.210256",
     "status": "completed"
    },
    "tags": []
   },
   "outputs": [
    {
     "data": {
      "text/plain": [
       "respondent_id                      0\n",
       "xyz_concern                       85\n",
       "xyz_knowledge                    122\n",
       "behavioral_antiviral_meds         79\n",
       "behavioral_avoidance             213\n",
       "behavioral_face_mask              19\n",
       "behavioral_wash_hands             40\n",
       "behavioral_large_gatherings       72\n",
       "behavioral_outside_home           82\n",
       "behavioral_touch_face            128\n",
       "doctor_recc_xyz                 2160\n",
       "doctor_recc_seasonal            2160\n",
       "chronic_med_condition            932\n",
       "child_under_6_months             813\n",
       "health_worker                    789\n",
       "health_insurance               12228\n",
       "opinion_xyz_vacc_effective       398\n",
       "opinion_xyz_risk                 380\n",
       "opinion_xyz_sick_from_vacc       375\n",
       "opinion_seas_vacc_effective      452\n",
       "opinion_seas_risk                499\n",
       "opinion_seas_sick_from_vacc      521\n",
       "age_group                          0\n",
       "education                       1407\n",
       "race                               0\n",
       "sex                                0\n",
       "income_poverty                  4497\n",
       "marital_status                  1442\n",
       "rent_or_own                     2036\n",
       "employment_status               1471\n",
       "hhs_geo_region                     0\n",
       "census_msa                         0\n",
       "household_adults                 225\n",
       "household_children               225\n",
       "employment_industry            13275\n",
       "employment_occupation          13426\n",
       "dtype: int64"
      ]
     },
     "execution_count": 24,
     "metadata": {},
     "output_type": "execute_result"
    }
   ],
   "source": [
    "test.isnull().sum()"
   ]
  },
  {
   "cell_type": "code",
   "execution_count": 25,
   "id": "5ef630c2",
   "metadata": {
    "execution": {
     "iopub.execute_input": "2025-07-23T16:56:31.273901Z",
     "iopub.status.busy": "2025-07-23T16:56:31.272991Z",
     "iopub.status.idle": "2025-07-23T16:56:31.295886Z",
     "shell.execute_reply": "2025-07-23T16:56:31.294637Z"
    },
    "papermill": {
     "duration": 0.03675,
     "end_time": "2025-07-23T16:56:31.297561",
     "exception": false,
     "start_time": "2025-07-23T16:56:31.260811",
     "status": "completed"
    },
    "tags": []
   },
   "outputs": [
    {
     "name": "stdout",
     "output_type": "stream",
     "text": [
      "Column: age_group\n",
      "Categories: ['35 - 44 Years' '18 - 34 Years' '55 - 64 Years' '65+ Years'\n",
      " '45 - 54 Years']\n",
      "\n",
      "Column: education\n",
      "Categories: ['College Graduate' '12 Years' 'Some College' '< 12 Years' nan]\n",
      "\n",
      "Column: race\n",
      "Categories: ['Hispanic' 'White' 'Black' 'Other or Multiple']\n",
      "\n",
      "Column: sex\n",
      "Categories: ['Female' 'Male']\n",
      "\n",
      "Column: income_poverty\n",
      "Categories: ['> $75,000' 'Below Poverty' '<= $75,000, Above Poverty' nan]\n",
      "\n",
      "Column: marital_status\n",
      "Categories: ['Not Married' 'Married' nan]\n",
      "\n",
      "Column: rent_or_own\n",
      "Categories: ['Rent' 'Own' nan]\n",
      "\n",
      "Column: employment_status\n",
      "Categories: ['Employed' 'Not in Labor Force' 'Unemployed' nan]\n",
      "\n",
      "Column: hhs_geo_region\n",
      "Categories: ['mlyzmhmf' 'bhuqouqj' 'lrircsnp' 'lzgpxyit' 'fpwskwrf' 'oxchjgsf'\n",
      " 'dqpwygqj' 'qufhixun' 'kbazzjca' 'atmpeygn']\n",
      "\n",
      "Column: census_msa\n",
      "Categories: ['MSA, Not Principle  City' 'Non-MSA' 'MSA, Principle City']\n",
      "\n",
      "Column: employment_industry\n",
      "Categories: ['atmlpfrs' 'nduyfdeo' nan 'fcxhlnwr' 'pxcmvdjn' 'arjwrbjb' 'mfikgejo'\n",
      " 'rucpziij' 'wxleyezf' 'haxffmxo' 'ldnlellj' 'vjjrobsf' 'cfqqtusy'\n",
      " 'xicduogh' 'dotnnunm' 'xqicxuve' 'wlfvacwt' 'saaquncn' 'msuufmds'\n",
      " 'mcubkhph' 'phxvnwax' 'qnlwzans']\n",
      "\n",
      "Column: employment_occupation\n",
      "Categories: ['hfxkjkmi' 'xqwwgdyp' 'pvmttkik' nan 'mxkfnird' 'cmhcxjea' 'xgwztkwe'\n",
      " 'tfqavkke' 'vlluhbov' 'dcjcmpih' 'xtkaffoo' 'hodpvpew' 'oijqvulv'\n",
      " 'kldqjyjy' 'emcorrxb' 'qxajmpny' 'haliazsg' 'ukymxvdu' 'dlvbwzss'\n",
      " 'uqqtjvyb' 'ccgxvspp' 'rcertsgn' 'bxpfxfdn' 'xzmlyyjv']\n",
      "\n",
      "12\n"
     ]
    }
   ],
   "source": [
    "categorical_columns = test.select_dtypes(include=['object', 'category']).columns\n",
    "\n",
    "for col in categorical_columns:\n",
    "    unique_categories = test[col].unique()\n",
    "    print(f\"Column: {col}\")\n",
    "    print(f\"Categories: {unique_categories}\")\n",
    "    print()\n",
    "\n",
    "# Count the number of categorical columns\n",
    "num_categorical_columns = len(categorical_columns)\n",
    "print(num_categorical_columns)"
   ]
  },
  {
   "cell_type": "code",
   "execution_count": 26,
   "id": "2cf302c1",
   "metadata": {
    "execution": {
     "iopub.execute_input": "2025-07-23T16:56:31.321738Z",
     "iopub.status.busy": "2025-07-23T16:56:31.321338Z",
     "iopub.status.idle": "2025-07-23T16:56:31.381014Z",
     "shell.execute_reply": "2025-07-23T16:56:31.380078Z"
    },
    "papermill": {
     "duration": 0.073896,
     "end_time": "2025-07-23T16:56:31.382702",
     "exception": false,
     "start_time": "2025-07-23T16:56:31.308806",
     "status": "completed"
    },
    "tags": []
   },
   "outputs": [],
   "source": [
    "test['xyz_concern']=test['xyz_concern'].fillna(test['xyz_concern'].median())\n",
    "test['xyz_knowledge']=test['xyz_knowledge'].fillna(test['xyz_knowledge'].median())\n",
    "test['behavioral_antiviral_meds']=test['behavioral_antiviral_meds'].fillna(test['behavioral_antiviral_meds'].median())\n",
    "test['behavioral_avoidance']=test['behavioral_avoidance'].fillna(test['behavioral_avoidance'].mode()[0])\n",
    "test['behavioral_face_mask']=test['behavioral_face_mask'].fillna(test['behavioral_face_mask'].mode()[0])\n",
    "test['behavioral_wash_hands']=test['behavioral_wash_hands'].fillna(test['behavioral_wash_hands'].mode()[0])\n",
    "test['behavioral_large_gatherings']=test['behavioral_large_gatherings'].fillna(test['behavioral_large_gatherings'].mode()[0])\n",
    "test['behavioral_outside_home']=test['behavioral_outside_home'].fillna(test['behavioral_outside_home'].mode()[0])\n",
    "test['behavioral_touch_face']=test['behavioral_touch_face'].fillna(test['behavioral_touch_face'].mode()[0])\n",
    "test['doctor_recc_xyz']=test['doctor_recc_xyz'].fillna(test['doctor_recc_xyz'].mode()[0])\n",
    "test['doctor_recc_seasonal']=test['doctor_recc_seasonal'].fillna(test['doctor_recc_seasonal'].mode()[0])\n",
    "test['chronic_med_condition']=test['chronic_med_condition'].fillna(test['chronic_med_condition'].mode()[0])\n",
    "test['child_under_6_months']=test['child_under_6_months'].fillna(test['child_under_6_months'].mode()[0])\n",
    "test['health_worker']=test['health_worker'].fillna(test['health_worker'].mode()[0])\n",
    "test['health_insurance']=test['health_insurance'].fillna(test['health_insurance'].mode()[0])\n",
    "test['opinion_xyz_vacc_effective']=test['opinion_xyz_vacc_effective'].fillna(test['opinion_xyz_vacc_effective'].mode()[0])\n",
    "test['opinion_xyz_risk']=test['opinion_xyz_risk'].fillna(test['opinion_xyz_risk'].mode()[0])\n",
    "test['opinion_xyz_sick_from_vacc']=test['opinion_xyz_sick_from_vacc'].fillna(test['opinion_xyz_sick_from_vacc'].mode()[0])\n",
    "test['opinion_seas_vacc_effective']=test['opinion_seas_vacc_effective'].fillna(test['opinion_seas_vacc_effective'].mode()[0])\n",
    "test['opinion_seas_risk']=test['opinion_seas_risk'].fillna(test['opinion_seas_risk'].mode()[0])\n",
    "test['opinion_seas_sick_from_vacc']=test['opinion_seas_sick_from_vacc'].fillna(test['opinion_seas_sick_from_vacc'].mode()[0])\n",
    "test['education']=test['education'].fillna(test['education'].mode()[0])\n",
    "test['income_poverty']=test['income_poverty'].fillna(test['income_poverty'].mode()[0])\n",
    "test['marital_status']=test['marital_status'].fillna(test['marital_status'].mode()[0])\n",
    "test['rent_or_own']=test['rent_or_own'].fillna(test['rent_or_own'].mode()[0])\n",
    "test['employment_status']=test['employment_status'].fillna(test['employment_status'].mode()[0])\n",
    "test['household_adults']=test['household_adults'].fillna(test['household_adults'].mode()[0])\n",
    "test['household_children']=test['household_children'].fillna(test['household_children'].mode()[0])\n"
   ]
  },
  {
   "cell_type": "code",
   "execution_count": 27,
   "id": "2e816158",
   "metadata": {
    "execution": {
     "iopub.execute_input": "2025-07-23T16:56:31.407691Z",
     "iopub.status.busy": "2025-07-23T16:56:31.406516Z",
     "iopub.status.idle": "2025-07-23T16:56:31.417605Z",
     "shell.execute_reply": "2025-07-23T16:56:31.416596Z"
    },
    "papermill": {
     "duration": 0.025192,
     "end_time": "2025-07-23T16:56:31.419412",
     "exception": false,
     "start_time": "2025-07-23T16:56:31.394220",
     "status": "completed"
    },
    "tags": []
   },
   "outputs": [],
   "source": [
    "test.drop(columns=['employment_industry','employment_occupation','hhs_geo_region'],inplace=True)"
   ]
  },
  {
   "cell_type": "code",
   "execution_count": 28,
   "id": "58f65773",
   "metadata": {
    "execution": {
     "iopub.execute_input": "2025-07-23T16:56:31.444874Z",
     "iopub.status.busy": "2025-07-23T16:56:31.444505Z",
     "iopub.status.idle": "2025-07-23T16:56:31.484322Z",
     "shell.execute_reply": "2025-07-23T16:56:31.483503Z"
    },
    "papermill": {
     "duration": 0.054032,
     "end_time": "2025-07-23T16:56:31.486229",
     "exception": false,
     "start_time": "2025-07-23T16:56:31.432197",
     "status": "completed"
    },
    "tags": []
   },
   "outputs": [],
   "source": [
    "test=pd.get_dummies(test,columns=['age_group','education','race','sex','income_poverty','marital_status',\n",
    "                                                     'rent_or_own','employment_status','census_msa'],drop_first=True)"
   ]
  },
  {
   "cell_type": "code",
   "execution_count": 29,
   "id": "41a86138",
   "metadata": {
    "execution": {
     "iopub.execute_input": "2025-07-23T16:56:31.510256Z",
     "iopub.status.busy": "2025-07-23T16:56:31.509928Z",
     "iopub.status.idle": "2025-07-23T16:56:31.515580Z",
     "shell.execute_reply": "2025-07-23T16:56:31.514600Z"
    },
    "papermill": {
     "duration": 0.019725,
     "end_time": "2025-07-23T16:56:31.517278",
     "exception": false,
     "start_time": "2025-07-23T16:56:31.497553",
     "status": "completed"
    },
    "tags": []
   },
   "outputs": [
    {
     "data": {
      "text/plain": [
       "(26708, 43)"
      ]
     },
     "execution_count": 29,
     "metadata": {},
     "output_type": "execute_result"
    }
   ],
   "source": [
    "test.shape"
   ]
  },
  {
   "cell_type": "code",
   "execution_count": 30,
   "id": "e61c5165",
   "metadata": {
    "execution": {
     "iopub.execute_input": "2025-07-23T16:56:31.541340Z",
     "iopub.status.busy": "2025-07-23T16:56:31.541039Z",
     "iopub.status.idle": "2025-07-23T16:56:31.553225Z",
     "shell.execute_reply": "2025-07-23T16:56:31.552209Z"
    },
    "papermill": {
     "duration": 0.026123,
     "end_time": "2025-07-23T16:56:31.554979",
     "exception": false,
     "start_time": "2025-07-23T16:56:31.528856",
     "status": "completed"
    },
    "tags": []
   },
   "outputs": [],
   "source": [
    "test = test.drop(test.sample().index)"
   ]
  },
  {
   "cell_type": "code",
   "execution_count": 31,
   "id": "1635fd0a",
   "metadata": {
    "execution": {
     "iopub.execute_input": "2025-07-23T16:56:31.580555Z",
     "iopub.status.busy": "2025-07-23T16:56:31.579561Z",
     "iopub.status.idle": "2025-07-23T16:56:31.586901Z",
     "shell.execute_reply": "2025-07-23T16:56:31.585918Z"
    },
    "papermill": {
     "duration": 0.020789,
     "end_time": "2025-07-23T16:56:31.588361",
     "exception": false,
     "start_time": "2025-07-23T16:56:31.567572",
     "status": "completed"
    },
    "tags": []
   },
   "outputs": [
    {
     "name": "stdout",
     "output_type": "stream",
     "text": [
      "Features with special characters: ['education_< 12 Years', 'income_poverty_> $75,000']\n"
     ]
    }
   ],
   "source": [
    "special_characters = set('[]<>')\n",
    "\n",
    "# Function to check for special characters in feature names\n",
    "def contains_special_characters(feature_name, special_characters):\n",
    "    return any(char in special_characters for char in feature_name)\n",
    "\n",
    "# List to store features with special characters\n",
    "features_with_special_characters = []\n",
    "\n",
    "# Check each feature name\n",
    "for feature in train_features.columns:\n",
    "    if contains_special_characters(feature, special_characters):\n",
    "        features_with_special_characters.append(feature)\n",
    "\n",
    "# Report features with special characters\n",
    "if features_with_special_characters:\n",
    "    print(\"Features with special characters:\", features_with_special_characters)\n",
    "else:\n",
    "    print(\"No features with special characters found.\")"
   ]
  },
  {
   "cell_type": "markdown",
   "id": "4631bae1",
   "metadata": {
    "papermill": {
     "duration": 0.010768,
     "end_time": "2025-07-23T16:56:31.610481",
     "exception": false,
     "start_time": "2025-07-23T16:56:31.599713",
     "status": "completed"
    },
    "tags": []
   },
   "source": [
    "# MAKING MODEL"
   ]
  },
  {
   "cell_type": "code",
   "execution_count": 32,
   "id": "96070cb5",
   "metadata": {
    "execution": {
     "iopub.execute_input": "2025-07-23T16:56:31.634805Z",
     "iopub.status.busy": "2025-07-23T16:56:31.634394Z",
     "iopub.status.idle": "2025-07-23T16:56:31.642304Z",
     "shell.execute_reply": "2025-07-23T16:56:31.641469Z"
    },
    "papermill": {
     "duration": 0.022229,
     "end_time": "2025-07-23T16:56:31.644008",
     "exception": false,
     "start_time": "2025-07-23T16:56:31.621779",
     "status": "completed"
    },
    "tags": []
   },
   "outputs": [],
   "source": [
    "X = train_features.drop(columns=['respondent_id'])\n",
    "y = train_label[['xyz_vaccine', 'seasonal_vaccine']]"
   ]
  },
  {
   "cell_type": "code",
   "execution_count": 33,
   "id": "9016bb49",
   "metadata": {
    "execution": {
     "iopub.execute_input": "2025-07-23T16:56:31.668103Z",
     "iopub.status.busy": "2025-07-23T16:56:31.667779Z",
     "iopub.status.idle": "2025-07-23T16:56:31.971344Z",
     "shell.execute_reply": "2025-07-23T16:56:31.970555Z"
    },
    "papermill": {
     "duration": 0.317844,
     "end_time": "2025-07-23T16:56:31.973043",
     "exception": false,
     "start_time": "2025-07-23T16:56:31.655199",
     "status": "completed"
    },
    "tags": []
   },
   "outputs": [],
   "source": [
    "from sklearn.model_selection import train_test_split\n",
    "X_train, X_test, y_train, y_test = train_test_split(X, y, test_size=0.25, random_state=42)"
   ]
  },
  {
   "cell_type": "code",
   "execution_count": 34,
   "id": "53f8e0f3",
   "metadata": {
    "execution": {
     "iopub.execute_input": "2025-07-23T16:56:31.998201Z",
     "iopub.status.busy": "2025-07-23T16:56:31.997853Z",
     "iopub.status.idle": "2025-07-23T16:56:32.111089Z",
     "shell.execute_reply": "2025-07-23T16:56:32.110120Z"
    },
    "papermill": {
     "duration": 0.127569,
     "end_time": "2025-07-23T16:56:32.113027",
     "exception": false,
     "start_time": "2025-07-23T16:56:31.985458",
     "status": "completed"
    },
    "tags": []
   },
   "outputs": [],
   "source": [
    "from sklearn.linear_model import LogisticRegression\n",
    "from sklearn.multioutput import MultiOutputClassifier"
   ]
  },
  {
   "cell_type": "code",
   "execution_count": 35,
   "id": "77fafffc",
   "metadata": {
    "execution": {
     "iopub.execute_input": "2025-07-23T16:56:32.136949Z",
     "iopub.status.busy": "2025-07-23T16:56:32.136572Z",
     "iopub.status.idle": "2025-07-23T16:56:32.141033Z",
     "shell.execute_reply": "2025-07-23T16:56:32.140126Z"
    },
    "papermill": {
     "duration": 0.017928,
     "end_time": "2025-07-23T16:56:32.142370",
     "exception": false,
     "start_time": "2025-07-23T16:56:32.124442",
     "status": "completed"
    },
    "tags": []
   },
   "outputs": [],
   "source": [
    "base_classifier = LogisticRegression(max_iter=1000)"
   ]
  },
  {
   "cell_type": "code",
   "execution_count": 36,
   "id": "99273e68",
   "metadata": {
    "execution": {
     "iopub.execute_input": "2025-07-23T16:56:32.166310Z",
     "iopub.status.busy": "2025-07-23T16:56:32.165457Z",
     "iopub.status.idle": "2025-07-23T16:56:32.169611Z",
     "shell.execute_reply": "2025-07-23T16:56:32.168811Z"
    },
    "papermill": {
     "duration": 0.017592,
     "end_time": "2025-07-23T16:56:32.171075",
     "exception": false,
     "start_time": "2025-07-23T16:56:32.153483",
     "status": "completed"
    },
    "tags": []
   },
   "outputs": [],
   "source": [
    "model = MultiOutputClassifier(base_classifier)"
   ]
  },
  {
   "cell_type": "code",
   "execution_count": 37,
   "id": "c6b4b32d",
   "metadata": {
    "execution": {
     "iopub.execute_input": "2025-07-23T16:56:32.194874Z",
     "iopub.status.busy": "2025-07-23T16:56:32.194146Z",
     "iopub.status.idle": "2025-07-23T16:56:33.384367Z",
     "shell.execute_reply": "2025-07-23T16:56:33.383312Z"
    },
    "papermill": {
     "duration": 1.204552,
     "end_time": "2025-07-23T16:56:33.386870",
     "exception": false,
     "start_time": "2025-07-23T16:56:32.182318",
     "status": "completed"
    },
    "tags": []
   },
   "outputs": [
    {
     "data": {
      "text/html": [
       "<style>#sk-container-id-1 {color: black;background-color: white;}#sk-container-id-1 pre{padding: 0;}#sk-container-id-1 div.sk-toggleable {background-color: white;}#sk-container-id-1 label.sk-toggleable__label {cursor: pointer;display: block;width: 100%;margin-bottom: 0;padding: 0.3em;box-sizing: border-box;text-align: center;}#sk-container-id-1 label.sk-toggleable__label-arrow:before {content: \"▸\";float: left;margin-right: 0.25em;color: #696969;}#sk-container-id-1 label.sk-toggleable__label-arrow:hover:before {color: black;}#sk-container-id-1 div.sk-estimator:hover label.sk-toggleable__label-arrow:before {color: black;}#sk-container-id-1 div.sk-toggleable__content {max-height: 0;max-width: 0;overflow: hidden;text-align: left;background-color: #f0f8ff;}#sk-container-id-1 div.sk-toggleable__content pre {margin: 0.2em;color: black;border-radius: 0.25em;background-color: #f0f8ff;}#sk-container-id-1 input.sk-toggleable__control:checked~div.sk-toggleable__content {max-height: 200px;max-width: 100%;overflow: auto;}#sk-container-id-1 input.sk-toggleable__control:checked~label.sk-toggleable__label-arrow:before {content: \"▾\";}#sk-container-id-1 div.sk-estimator input.sk-toggleable__control:checked~label.sk-toggleable__label {background-color: #d4ebff;}#sk-container-id-1 div.sk-label input.sk-toggleable__control:checked~label.sk-toggleable__label {background-color: #d4ebff;}#sk-container-id-1 input.sk-hidden--visually {border: 0;clip: rect(1px 1px 1px 1px);clip: rect(1px, 1px, 1px, 1px);height: 1px;margin: -1px;overflow: hidden;padding: 0;position: absolute;width: 1px;}#sk-container-id-1 div.sk-estimator {font-family: monospace;background-color: #f0f8ff;border: 1px dotted black;border-radius: 0.25em;box-sizing: border-box;margin-bottom: 0.5em;}#sk-container-id-1 div.sk-estimator:hover {background-color: #d4ebff;}#sk-container-id-1 div.sk-parallel-item::after {content: \"\";width: 100%;border-bottom: 1px solid gray;flex-grow: 1;}#sk-container-id-1 div.sk-label:hover label.sk-toggleable__label {background-color: #d4ebff;}#sk-container-id-1 div.sk-serial::before {content: \"\";position: absolute;border-left: 1px solid gray;box-sizing: border-box;top: 0;bottom: 0;left: 50%;z-index: 0;}#sk-container-id-1 div.sk-serial {display: flex;flex-direction: column;align-items: center;background-color: white;padding-right: 0.2em;padding-left: 0.2em;position: relative;}#sk-container-id-1 div.sk-item {position: relative;z-index: 1;}#sk-container-id-1 div.sk-parallel {display: flex;align-items: stretch;justify-content: center;background-color: white;position: relative;}#sk-container-id-1 div.sk-item::before, #sk-container-id-1 div.sk-parallel-item::before {content: \"\";position: absolute;border-left: 1px solid gray;box-sizing: border-box;top: 0;bottom: 0;left: 50%;z-index: -1;}#sk-container-id-1 div.sk-parallel-item {display: flex;flex-direction: column;z-index: 1;position: relative;background-color: white;}#sk-container-id-1 div.sk-parallel-item:first-child::after {align-self: flex-end;width: 50%;}#sk-container-id-1 div.sk-parallel-item:last-child::after {align-self: flex-start;width: 50%;}#sk-container-id-1 div.sk-parallel-item:only-child::after {width: 0;}#sk-container-id-1 div.sk-dashed-wrapped {border: 1px dashed gray;margin: 0 0.4em 0.5em 0.4em;box-sizing: border-box;padding-bottom: 0.4em;background-color: white;}#sk-container-id-1 div.sk-label label {font-family: monospace;font-weight: bold;display: inline-block;line-height: 1.2em;}#sk-container-id-1 div.sk-label-container {text-align: center;}#sk-container-id-1 div.sk-container {/* jupyter's `normalize.less` sets `[hidden] { display: none; }` but bootstrap.min.css set `[hidden] { display: none !important; }` so we also need the `!important` here to be able to override the default hidden behavior on the sphinx rendered scikit-learn.org. See: https://github.com/scikit-learn/scikit-learn/issues/21755 */display: inline-block !important;position: relative;}#sk-container-id-1 div.sk-text-repr-fallback {display: none;}</style><div id=\"sk-container-id-1\" class=\"sk-top-container\"><div class=\"sk-text-repr-fallback\"><pre>MultiOutputClassifier(estimator=LogisticRegression(max_iter=1000))</pre><b>In a Jupyter environment, please rerun this cell to show the HTML representation or trust the notebook. <br />On GitHub, the HTML representation is unable to render, please try loading this page with nbviewer.org.</b></div><div class=\"sk-container\" hidden><div class=\"sk-item sk-dashed-wrapped\"><div class=\"sk-label-container\"><div class=\"sk-label sk-toggleable\"><input class=\"sk-toggleable__control sk-hidden--visually\" id=\"sk-estimator-id-1\" type=\"checkbox\" ><label for=\"sk-estimator-id-1\" class=\"sk-toggleable__label sk-toggleable__label-arrow\">MultiOutputClassifier</label><div class=\"sk-toggleable__content\"><pre>MultiOutputClassifier(estimator=LogisticRegression(max_iter=1000))</pre></div></div></div><div class=\"sk-parallel\"><div class=\"sk-parallel-item\"><div class=\"sk-item\"><div class=\"sk-label-container\"><div class=\"sk-label sk-toggleable\"><input class=\"sk-toggleable__control sk-hidden--visually\" id=\"sk-estimator-id-2\" type=\"checkbox\" ><label for=\"sk-estimator-id-2\" class=\"sk-toggleable__label sk-toggleable__label-arrow\">estimator: LogisticRegression</label><div class=\"sk-toggleable__content\"><pre>LogisticRegression(max_iter=1000)</pre></div></div></div><div class=\"sk-serial\"><div class=\"sk-item\"><div class=\"sk-estimator sk-toggleable\"><input class=\"sk-toggleable__control sk-hidden--visually\" id=\"sk-estimator-id-3\" type=\"checkbox\" ><label for=\"sk-estimator-id-3\" class=\"sk-toggleable__label sk-toggleable__label-arrow\">LogisticRegression</label><div class=\"sk-toggleable__content\"><pre>LogisticRegression(max_iter=1000)</pre></div></div></div></div></div></div></div></div></div></div>"
      ],
      "text/plain": [
       "MultiOutputClassifier(estimator=LogisticRegression(max_iter=1000))"
      ]
     },
     "execution_count": 37,
     "metadata": {},
     "output_type": "execute_result"
    }
   ],
   "source": [
    "model.fit(X_train, y_train)"
   ]
  },
  {
   "cell_type": "code",
   "execution_count": 38,
   "id": "a6f71328",
   "metadata": {
    "execution": {
     "iopub.execute_input": "2025-07-23T16:56:33.427573Z",
     "iopub.status.busy": "2025-07-23T16:56:33.427234Z",
     "iopub.status.idle": "2025-07-23T16:56:33.472483Z",
     "shell.execute_reply": "2025-07-23T16:56:33.471732Z"
    },
    "papermill": {
     "duration": 0.06733,
     "end_time": "2025-07-23T16:56:33.474046",
     "exception": false,
     "start_time": "2025-07-23T16:56:33.406716",
     "status": "completed"
    },
    "tags": []
   },
   "outputs": [
    {
     "data": {
      "text/plain": [
       "[array([[0.92751398, 0.07248602],\n",
       "        [0.95554182, 0.04445818],\n",
       "        [0.93780818, 0.06219182],\n",
       "        ...,\n",
       "        [0.90044382, 0.09955618],\n",
       "        [0.95278814, 0.04721186],\n",
       "        [0.94769016, 0.05230984]]),\n",
       " array([[0.88533543, 0.11466457],\n",
       "        [0.19494563, 0.80505437],\n",
       "        [0.80098476, 0.19901524],\n",
       "        ...,\n",
       "        [0.75277661, 0.24722339],\n",
       "        [0.87651662, 0.12348338],\n",
       "        [0.83004502, 0.16995498]])]"
      ]
     },
     "execution_count": 38,
     "metadata": {},
     "output_type": "execute_result"
    }
   ],
   "source": [
    "model.predict_proba(X_train)"
   ]
  },
  {
   "cell_type": "code",
   "execution_count": 39,
   "id": "d1607271",
   "metadata": {
    "execution": {
     "iopub.execute_input": "2025-07-23T16:56:33.499099Z",
     "iopub.status.busy": "2025-07-23T16:56:33.498780Z",
     "iopub.status.idle": "2025-07-23T16:56:33.511374Z",
     "shell.execute_reply": "2025-07-23T16:56:33.510404Z"
    },
    "papermill": {
     "duration": 0.026892,
     "end_time": "2025-07-23T16:56:33.513122",
     "exception": false,
     "start_time": "2025-07-23T16:56:33.486230",
     "status": "completed"
    },
    "tags": []
   },
   "outputs": [],
   "source": [
    "y_pred_proba = model.predict_proba(X_test)\n",
    "y_pred_proba_xyz = y_pred_proba[0][:, 1]\n",
    "y_pred_proba_seasonal = y_pred_proba[1][:, 1]"
   ]
  },
  {
   "cell_type": "code",
   "execution_count": 40,
   "id": "418e3e8b",
   "metadata": {
    "execution": {
     "iopub.execute_input": "2025-07-23T16:56:33.540479Z",
     "iopub.status.busy": "2025-07-23T16:56:33.540157Z",
     "iopub.status.idle": "2025-07-23T16:56:33.557930Z",
     "shell.execute_reply": "2025-07-23T16:56:33.556880Z"
    },
    "papermill": {
     "duration": 0.031879,
     "end_time": "2025-07-23T16:56:33.559596",
     "exception": false,
     "start_time": "2025-07-23T16:56:33.527717",
     "status": "completed"
    },
    "tags": []
   },
   "outputs": [
    {
     "name": "stdout",
     "output_type": "stream",
     "text": [
      "ROC AUC for XYZ Vaccine: 0.8303553268164146\n",
      "ROC AUC for Seasonal Vaccine: 0.8537084760697478\n",
      "Mean ROC AUC: 0.8420319014430812\n"
     ]
    }
   ],
   "source": [
    "from sklearn.metrics import roc_auc_score\n",
    "\n",
    "roc_auc_xyz = roc_auc_score(y_test['xyz_vaccine'], y_pred_proba_xyz)\n",
    "roc_auc_seasonal = roc_auc_score(y_test['seasonal_vaccine'], y_pred_proba_seasonal)\n",
    "mean_roc_auc = (roc_auc_xyz + roc_auc_seasonal) / 2\n",
    "\n",
    "print(f'ROC AUC for XYZ Vaccine: {roc_auc_xyz}')\n",
    "print(f'ROC AUC for Seasonal Vaccine: {roc_auc_seasonal}')\n",
    "print(f'Mean ROC AUC: {mean_roc_auc}')\n"
   ]
  },
  {
   "cell_type": "code",
   "execution_count": 41,
   "id": "3549ea31",
   "metadata": {
    "execution": {
     "iopub.execute_input": "2025-07-23T16:56:33.584032Z",
     "iopub.status.busy": "2025-07-23T16:56:33.583714Z",
     "iopub.status.idle": "2025-07-23T16:56:33.605238Z",
     "shell.execute_reply": "2025-07-23T16:56:33.604415Z"
    },
    "papermill": {
     "duration": 0.035697,
     "end_time": "2025-07-23T16:56:33.607023",
     "exception": false,
     "start_time": "2025-07-23T16:56:33.571326",
     "status": "completed"
    },
    "tags": []
   },
   "outputs": [],
   "source": [
    "X_test_final = test.drop(columns=['respondent_id'])\n",
    "\n",
    "# Make predictions\n",
    "y_pred_proba_final=model.predict_proba(X_test_final)"
   ]
  },
  {
   "cell_type": "code",
   "execution_count": 42,
   "id": "12866adf",
   "metadata": {
    "execution": {
     "iopub.execute_input": "2025-07-23T16:56:33.634785Z",
     "iopub.status.busy": "2025-07-23T16:56:33.634112Z",
     "iopub.status.idle": "2025-07-23T16:56:33.638536Z",
     "shell.execute_reply": "2025-07-23T16:56:33.637619Z"
    },
    "papermill": {
     "duration": 0.018313,
     "end_time": "2025-07-23T16:56:33.640075",
     "exception": false,
     "start_time": "2025-07-23T16:56:33.621762",
     "status": "completed"
    },
    "tags": []
   },
   "outputs": [],
   "source": [
    "y_pred_proba_xyz_final=y_pred_proba_final[0][:, 1]\n",
    "y_pred_proba_seasonal_final = y_pred_proba_final[1][:, 1]"
   ]
  },
  {
   "cell_type": "code",
   "execution_count": 43,
   "id": "d0292e12",
   "metadata": {
    "execution": {
     "iopub.execute_input": "2025-07-23T16:56:33.664815Z",
     "iopub.status.busy": "2025-07-23T16:56:33.664030Z",
     "iopub.status.idle": "2025-07-23T16:56:33.669422Z",
     "shell.execute_reply": "2025-07-23T16:56:33.668623Z"
    },
    "papermill": {
     "duration": 0.019108,
     "end_time": "2025-07-23T16:56:33.670782",
     "exception": false,
     "start_time": "2025-07-23T16:56:33.651674",
     "status": "completed"
    },
    "tags": []
   },
   "outputs": [],
   "source": [
    "predictions_df_final = pd.DataFrame({\n",
    "    'respondent_id': test['respondent_id'],\n",
    "    'xyz_vaccine': y_pred_proba_xyz_final,\n",
    "    'seasonal_vaccine': y_pred_proba_seasonal_final\n",
    "})"
   ]
  },
  {
   "cell_type": "code",
   "execution_count": 44,
   "id": "1930cd9c",
   "metadata": {
    "execution": {
     "iopub.execute_input": "2025-07-23T16:56:33.695299Z",
     "iopub.status.busy": "2025-07-23T16:56:33.694756Z",
     "iopub.status.idle": "2025-07-23T16:56:33.815993Z",
     "shell.execute_reply": "2025-07-23T16:56:33.815051Z"
    },
    "papermill": {
     "duration": 0.135309,
     "end_time": "2025-07-23T16:56:33.817794",
     "exception": false,
     "start_time": "2025-07-23T16:56:33.682485",
     "status": "completed"
    },
    "tags": []
   },
   "outputs": [],
   "source": [
    "predictions_df_final.to_csv('Predictions_final.csv', index=False)"
   ]
  },
  {
   "cell_type": "code",
   "execution_count": 45,
   "id": "fbdc3933",
   "metadata": {
    "execution": {
     "iopub.execute_input": "2025-07-23T16:56:33.842534Z",
     "iopub.status.busy": "2025-07-23T16:56:33.842221Z",
     "iopub.status.idle": "2025-07-23T16:56:34.067701Z",
     "shell.execute_reply": "2025-07-23T16:56:34.066600Z"
    },
    "papermill": {
     "duration": 0.239551,
     "end_time": "2025-07-23T16:56:34.069261",
     "exception": false,
     "start_time": "2025-07-23T16:56:33.829710",
     "status": "completed"
    },
    "tags": []
   },
   "outputs": [
    {
     "name": "stdout",
     "output_type": "stream",
     "text": [
      "Accuracy =  0.5920323498577206\n"
     ]
    }
   ],
   "source": [
    "from skmultilearn.problem_transform import BinaryRelevance\n",
    "from sklearn.metrics import accuracy_score\n",
    "from sklearn.naive_bayes import GaussianNB\n",
    "import numpy as np\n",
    "\n",
    "# Ensure correct dtypes\n",
    "X_train = np.array(X_train, dtype=np.float32)\n",
    "y_train = np.array(y_train, dtype=np.int32)\n",
    "X_test = np.array(X_test, dtype=np.float32)\n",
    "y_test = np.array(y_test, dtype=np.int32)\n",
    "\n",
    "# initialize binary relevance multi-label classifier\n",
    "classifier = BinaryRelevance(GaussianNB())\n",
    "\n",
    "# train\n",
    "classifier.fit(X_train, y_train)\n",
    "\n",
    "# predict\n",
    "predictions = classifier.predict(X_test)\n",
    "\n",
    "# accuracy\n",
    "from sklearn.metrics import accuracy_score\n",
    "print(\"Accuracy = \", accuracy_score(y_test, predictions.toarray()))\n"
   ]
  },
  {
   "cell_type": "code",
   "execution_count": 46,
   "id": "67c9afcf",
   "metadata": {
    "execution": {
     "iopub.execute_input": "2025-07-23T16:56:34.098587Z",
     "iopub.status.busy": "2025-07-23T16:56:34.098276Z",
     "iopub.status.idle": "2025-07-23T16:56:35.053313Z",
     "shell.execute_reply": "2025-07-23T16:56:35.052529Z"
    },
    "papermill": {
     "duration": 0.977175,
     "end_time": "2025-07-23T16:56:35.058551",
     "exception": false,
     "start_time": "2025-07-23T16:56:34.081376",
     "status": "completed"
    },
    "tags": []
   },
   "outputs": [
    {
     "name": "stderr",
     "output_type": "stream",
     "text": [
      "/usr/local/lib/python3.11/dist-packages/sklearn/linear_model/_logistic.py:458: ConvergenceWarning: lbfgs failed to converge (status=1):\n",
      "STOP: TOTAL NO. OF ITERATIONS REACHED LIMIT.\n",
      "\n",
      "Increase the number of iterations (max_iter) or scale the data as shown in:\n",
      "    https://scikit-learn.org/stable/modules/preprocessing.html\n",
      "Please also refer to the documentation for alternative solver options:\n",
      "    https://scikit-learn.org/stable/modules/linear_model.html#logistic-regression\n",
      "  n_iter_i = _check_optimize_result(\n"
     ]
    },
    {
     "name": "stdout",
     "output_type": "stream",
     "text": [
      "Accuracy =  0.6856372622435225\n",
      "\n",
      "\n"
     ]
    }
   ],
   "source": [
    " #using classifier chains\n",
    "from skmultilearn.problem_transform import ClassifierChain\n",
    "from sklearn.linear_model import LogisticRegression\n",
    "# initialize classifier chains multi-label classifier\n",
    "classifiers = ClassifierChain(LogisticRegression())\n",
    "# Training logistic regression model on train data\n",
    "classifiers.fit(X_train, y_train)\n",
    "# predict\n",
    "predictions = classifiers.predict(X_test)\n",
    "# accuracy\n",
    "print(\"Accuracy = \",accuracy_score(y_test,predictions))\n",
    "print(\"\\n\")"
   ]
  },
  {
   "cell_type": "code",
   "execution_count": 47,
   "id": "0a3aa47f",
   "metadata": {
    "execution": {
     "iopub.execute_input": "2025-07-23T16:56:35.109403Z",
     "iopub.status.busy": "2025-07-23T16:56:35.109078Z",
     "iopub.status.idle": "2025-07-23T16:56:35.119633Z",
     "shell.execute_reply": "2025-07-23T16:56:35.118932Z"
    },
    "papermill": {
     "duration": 0.032565,
     "end_time": "2025-07-23T16:56:35.121400",
     "exception": false,
     "start_time": "2025-07-23T16:56:35.088835",
     "status": "completed"
    },
    "tags": []
   },
   "outputs": [
    {
     "data": {
      "text/plain": [
       "respondent_id                             int64\n",
       "xyz_concern                             float64\n",
       "xyz_knowledge                           float64\n",
       "behavioral_antiviral_meds               float64\n",
       "behavioral_avoidance                    float64\n",
       "behavioral_face_mask                    float64\n",
       "behavioral_wash_hands                   float64\n",
       "behavioral_large_gatherings             float64\n",
       "behavioral_outside_home                 float64\n",
       "behavioral_touch_face                   float64\n",
       "doctor_recc_xyz                         float64\n",
       "doctor_recc_seasonal                    float64\n",
       "chronic_med_condition                   float64\n",
       "child_under_6_months                    float64\n",
       "health_worker                           float64\n",
       "health_insurance                        float64\n",
       "opinion_xyz_vacc_effective              float64\n",
       "opinion_xyz_risk                        float64\n",
       "opinion_xyz_sick_from_vacc              float64\n",
       "opinion_seas_vacc_effective             float64\n",
       "opinion_seas_risk                       float64\n",
       "opinion_seas_sick_from_vacc             float64\n",
       "household_adults                        float64\n",
       "household_children                      float64\n",
       "age_group_35 - 44 Years                    bool\n",
       "age_group_45 - 54 Years                    bool\n",
       "age_group_55 - 64 Years                    bool\n",
       "age_group_65+ Years                        bool\n",
       "education_< 12 Years                       bool\n",
       "education_College Graduate                 bool\n",
       "education_Some College                     bool\n",
       "race_Hispanic                              bool\n",
       "race_Other or Multiple                     bool\n",
       "race_White                                 bool\n",
       "sex_Male                                   bool\n",
       "income_poverty_> $75,000                   bool\n",
       "income_poverty_Below Poverty               bool\n",
       "marital_status_Not Married                 bool\n",
       "rent_or_own_Rent                           bool\n",
       "employment_status_Not in Labor Force       bool\n",
       "employment_status_Unemployed               bool\n",
       "census_msa_MSA, Principle City             bool\n",
       "census_msa_Non-MSA                         bool\n",
       "dtype: object"
      ]
     },
     "execution_count": 47,
     "metadata": {},
     "output_type": "execute_result"
    }
   ],
   "source": [
    "train_features.dtypes"
   ]
  }
 ],
 "metadata": {
  "kaggle": {
   "accelerator": "none",
   "dataSources": [
    {
     "datasetId": 7927953,
     "sourceId": 12555586,
     "sourceType": "datasetVersion"
    }
   ],
   "dockerImageVersionId": 31089,
   "isGpuEnabled": false,
   "isInternetEnabled": true,
   "language": "python",
   "sourceType": "notebook"
  },
  "kernelspec": {
   "display_name": "Python 3",
   "language": "python",
   "name": "python3"
  },
  "language_info": {
   "codemirror_mode": {
    "name": "ipython",
    "version": 3
   },
   "file_extension": ".py",
   "mimetype": "text/x-python",
   "name": "python",
   "nbconvert_exporter": "python",
   "pygments_lexer": "ipython3",
   "version": "3.11.13"
  },
  "papermill": {
   "default_parameters": {},
   "duration": 17.389456,
   "end_time": "2025-07-23T16:56:35.960919",
   "environment_variables": {},
   "exception": null,
   "input_path": "__notebook__.ipynb",
   "output_path": "__notebook__.ipynb",
   "parameters": {},
   "start_time": "2025-07-23T16:56:18.571463",
   "version": "2.6.0"
  }
 },
 "nbformat": 4,
 "nbformat_minor": 5
}
